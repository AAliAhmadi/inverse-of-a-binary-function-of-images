{
 "cells": [
  {
   "cell_type": "code",
   "execution_count": 71,
   "metadata": {
    "id": "BhgSJrVQVFuj"
   },
   "outputs": [],
   "source": [
    "import time\n",
    "import os\n",
    "import glob\n",
    "import numpy as np\n",
    "import matplotlib.pyplot as plt \n",
    "from tqdm import tqdm\n",
    "from PIL import Image"
   ]
  },
  {
   "cell_type": "code",
   "execution_count": 72,
   "metadata": {
    "id": "QQdJCL30VMvg"
   },
   "outputs": [],
   "source": [
    "import torch\n",
    "import torch.nn as nn\n",
    "import torch.optim as optim\n",
    "import torchvision\n",
    "import torchvision.datasets as datasets\n",
    "import torchvision.transforms as transforms\n",
    "from torchvision.utils import make_grid"
   ]
  },
  {
   "cell_type": "code",
   "execution_count": 73,
   "metadata": {
    "colab": {
     "base_uri": "https://localhost:8080/"
    },
    "id": "Vssi90-HXGae",
    "outputId": "92127642-1bf1-46ec-9dfa-e62c0547aa24"
   },
   "outputs": [
    {
     "name": "stdout",
     "output_type": "stream",
     "text": [
      "Files already downloaded and verified\n"
     ]
    }
   ],
   "source": [
    "normalize_transform = transforms.Compose([\n",
    "    transforms.ToTensor(),\n",
    "])\n",
    "\n",
    "train_dataset= torchvision.datasets.CIFAR10(root=',', train= True, \n",
    "                                 transform= normalize_transform , download= True)"
   ]
  },
  {
   "cell_type": "code",
   "execution_count": 74,
   "metadata": {
    "id": "JGBn7v1FXGd0"
   },
   "outputs": [],
   "source": [
    "(train_image, train_label)= train_dataset.data, train_dataset.targets"
   ]
  },
  {
   "cell_type": "code",
   "execution_count": 6,
   "metadata": {
    "id": "iIcRJxnGXGgj"
   },
   "outputs": [],
   "source": [
    "#making a dataframe of train images of CIFAR10\n",
    "import pandas as pd\n",
    "df= pd.DataFrame(list(zip(train_dataset.data, train_label)), columns= ['image', 'label'])"
   ]
  },
  {
   "cell_type": "code",
   "execution_count": 7,
   "metadata": {
    "id": "7X8tjoPuXGj6"
   },
   "outputs": [],
   "source": [
    "#taking a random sample of CIFAR10\n",
    "sett= df.sample(n=1000, replace= False)"
   ]
  },
  {
   "cell_type": "code",
   "execution_count": 8,
   "metadata": {
    "colab": {
     "base_uri": "https://localhost:8080/",
     "height": 206
    },
    "id": "6ngtmUjoZuAJ",
    "outputId": "6c52b34b-55a1-4e23-dbac-f2fceb958618"
   },
   "outputs": [
    {
     "data": {
      "text/html": [
       "\n",
       "  <div id=\"df-a4d0d8a5-db5d-4a29-9a39-d819b79e0968\">\n",
       "    <div class=\"colab-df-container\">\n",
       "      <div>\n",
       "<style scoped>\n",
       "    .dataframe tbody tr th:only-of-type {\n",
       "        vertical-align: middle;\n",
       "    }\n",
       "\n",
       "    .dataframe tbody tr th {\n",
       "        vertical-align: top;\n",
       "    }\n",
       "\n",
       "    .dataframe thead th {\n",
       "        text-align: right;\n",
       "    }\n",
       "</style>\n",
       "<table border=\"1\" class=\"dataframe\">\n",
       "  <thead>\n",
       "    <tr style=\"text-align: right;\">\n",
       "      <th></th>\n",
       "      <th>0</th>\n",
       "      <th>1</th>\n",
       "    </tr>\n",
       "  </thead>\n",
       "  <tbody>\n",
       "    <tr>\n",
       "      <th>0</th>\n",
       "      <td>[[[211, 190, 147], [212, 190, 146], [208, 187,...</td>\n",
       "      <td>3</td>\n",
       "    </tr>\n",
       "    <tr>\n",
       "      <th>1</th>\n",
       "      <td>[[[246, 255, 248], [246, 250, 241], [149, 140,...</td>\n",
       "      <td>5</td>\n",
       "    </tr>\n",
       "    <tr>\n",
       "      <th>2</th>\n",
       "      <td>[[[89, 83, 55], [77, 72, 44], [99, 94, 66], [1...</td>\n",
       "      <td>0</td>\n",
       "    </tr>\n",
       "    <tr>\n",
       "      <th>3</th>\n",
       "      <td>[[[11, 4, 20], [11, 4, 20], [11, 4, 20], [11, ...</td>\n",
       "      <td>0</td>\n",
       "    </tr>\n",
       "    <tr>\n",
       "      <th>4</th>\n",
       "      <td>[[[105, 115, 127], [103, 113, 125], [108, 117,...</td>\n",
       "      <td>8</td>\n",
       "    </tr>\n",
       "  </tbody>\n",
       "</table>\n",
       "</div>\n",
       "      <button class=\"colab-df-convert\" onclick=\"convertToInteractive('df-a4d0d8a5-db5d-4a29-9a39-d819b79e0968')\"\n",
       "              title=\"Convert this dataframe to an interactive table.\"\n",
       "              style=\"display:none;\">\n",
       "        \n",
       "  <svg xmlns=\"http://www.w3.org/2000/svg\" height=\"24px\"viewBox=\"0 0 24 24\"\n",
       "       width=\"24px\">\n",
       "    <path d=\"M0 0h24v24H0V0z\" fill=\"none\"/>\n",
       "    <path d=\"M18.56 5.44l.94 2.06.94-2.06 2.06-.94-2.06-.94-.94-2.06-.94 2.06-2.06.94zm-11 1L8.5 8.5l.94-2.06 2.06-.94-2.06-.94L8.5 2.5l-.94 2.06-2.06.94zm10 10l.94 2.06.94-2.06 2.06-.94-2.06-.94-.94-2.06-.94 2.06-2.06.94z\"/><path d=\"M17.41 7.96l-1.37-1.37c-.4-.4-.92-.59-1.43-.59-.52 0-1.04.2-1.43.59L10.3 9.45l-7.72 7.72c-.78.78-.78 2.05 0 2.83L4 21.41c.39.39.9.59 1.41.59.51 0 1.02-.2 1.41-.59l7.78-7.78 2.81-2.81c.8-.78.8-2.07 0-2.86zM5.41 20L4 18.59l7.72-7.72 1.47 1.35L5.41 20z\"/>\n",
       "  </svg>\n",
       "      </button>\n",
       "      \n",
       "  <style>\n",
       "    .colab-df-container {\n",
       "      display:flex;\n",
       "      flex-wrap:wrap;\n",
       "      gap: 12px;\n",
       "    }\n",
       "\n",
       "    .colab-df-convert {\n",
       "      background-color: #E8F0FE;\n",
       "      border: none;\n",
       "      border-radius: 50%;\n",
       "      cursor: pointer;\n",
       "      display: none;\n",
       "      fill: #1967D2;\n",
       "      height: 32px;\n",
       "      padding: 0 0 0 0;\n",
       "      width: 32px;\n",
       "    }\n",
       "\n",
       "    .colab-df-convert:hover {\n",
       "      background-color: #E2EBFA;\n",
       "      box-shadow: 0px 1px 2px rgba(60, 64, 67, 0.3), 0px 1px 3px 1px rgba(60, 64, 67, 0.15);\n",
       "      fill: #174EA6;\n",
       "    }\n",
       "\n",
       "    [theme=dark] .colab-df-convert {\n",
       "      background-color: #3B4455;\n",
       "      fill: #D2E3FC;\n",
       "    }\n",
       "\n",
       "    [theme=dark] .colab-df-convert:hover {\n",
       "      background-color: #434B5C;\n",
       "      box-shadow: 0px 1px 3px 1px rgba(0, 0, 0, 0.15);\n",
       "      filter: drop-shadow(0px 1px 2px rgba(0, 0, 0, 0.3));\n",
       "      fill: #FFFFFF;\n",
       "    }\n",
       "  </style>\n",
       "\n",
       "      <script>\n",
       "        const buttonEl =\n",
       "          document.querySelector('#df-a4d0d8a5-db5d-4a29-9a39-d819b79e0968 button.colab-df-convert');\n",
       "        buttonEl.style.display =\n",
       "          google.colab.kernel.accessAllowed ? 'block' : 'none';\n",
       "\n",
       "        async function convertToInteractive(key) {\n",
       "          const element = document.querySelector('#df-a4d0d8a5-db5d-4a29-9a39-d819b79e0968');\n",
       "          const dataTable =\n",
       "            await google.colab.kernel.invokeFunction('convertToInteractive',\n",
       "                                                     [key], {});\n",
       "          if (!dataTable) return;\n",
       "\n",
       "          const docLinkHtml = 'Like what you see? Visit the ' +\n",
       "            '<a target=\"_blank\" href=https://colab.research.google.com/notebooks/data_table.ipynb>data table notebook</a>'\n",
       "            + ' to learn more about interactive tables.';\n",
       "          element.innerHTML = '';\n",
       "          dataTable['output_type'] = 'display_data';\n",
       "          await google.colab.output.renderOutput(dataTable, element);\n",
       "          const docLink = document.createElement('div');\n",
       "          docLink.innerHTML = docLinkHtml;\n",
       "          element.appendChild(docLink);\n",
       "        }\n",
       "      </script>\n",
       "    </div>\n",
       "  </div>\n",
       "  "
      ],
      "text/plain": [
       "                                                   0  1\n",
       "0  [[[211, 190, 147], [212, 190, 146], [208, 187,...  3\n",
       "1  [[[246, 255, 248], [246, 250, 241], [149, 140,...  5\n",
       "2  [[[89, 83, 55], [77, 72, 44], [99, 94, 66], [1...  0\n",
       "3  [[[11, 4, 20], [11, 4, 20], [11, 4, 20], [11, ...  0\n",
       "4  [[[105, 115, 127], [103, 113, 125], [108, 117,...  8"
      ]
     },
     "execution_count": 8,
     "metadata": {},
     "output_type": "execute_result"
    }
   ],
   "source": [
    "#making a dataframe using these 1000 samples\n",
    "Sett= pd.DataFrame(sett.values, index= np.arange(0,1000))\n",
    "Sett.head()"
   ]
  },
  {
   "cell_type": "markdown",
   "metadata": {
    "id": "pO67P75Gzq4g"
   },
   "source": [
    "I define a function called cartesian to make cartesian products of images. Later, I use it to compute the middle of each two images and then drop the duplicates"
   ]
  },
  {
   "cell_type": "code",
   "execution_count": 9,
   "metadata": {
    "id": "Ruf5OK85Xueb"
   },
   "outputs": [],
   "source": [
    "def cartesian(*arrays):\n",
    "    mesh = np.meshgrid(*arrays)  # Standard NumPy meshgrid\n",
    "    dim = len(mesh)  # Number of dimensions\n",
    "    elements = mesh[0].size  # Number of elements, any index will do\n",
    "    flat = np.concatenate(mesh).ravel()  # Flatten the whole meshgrid\n",
    "    reshape = np.reshape(flat, (dim, elements)).T  # Reshape and transpose\n",
    "    return reshape"
   ]
  },
  {
   "cell_type": "markdown",
   "metadata": {
    "id": "uvW8j1101iyk"
   },
   "source": [
    "For this simple task, 150 images of CIFAR10 is surely enough. But for harder task, I could use much more data to train the network.\n",
    "Another reason for using this small set of images is that my cpu is a little weak and even using google colab, I got run time error that buy a new cpu for task when I use the entire images.\n",
    "\n",
    "I can still make a very good predictig function for all our 1000 samples in the end."
   ]
  },
  {
   "cell_type": "code",
   "execution_count": 10,
   "metadata": {
    "id": "-l9BHCSgZuDQ"
   },
   "outputs": [],
   "source": [
    "AS= Sett[0]"
   ]
  },
  {
   "cell_type": "code",
   "execution_count": 11,
   "metadata": {
    "id": "E8iZeaZV_UaU"
   },
   "outputs": [],
   "source": [
    "S= Sett[0][:150]"
   ]
  },
  {
   "cell_type": "code",
   "execution_count": 12,
   "metadata": {
    "colab": {
     "base_uri": "https://localhost:8080/"
    },
    "id": "mC5kugeHZnt-",
    "outputId": "d7293405-3be8-4605-fad3-6124e4306c62"
   },
   "outputs": [
    {
     "data": {
      "text/plain": [
       "22500"
      ]
     },
     "execution_count": 12,
     "metadata": {},
     "output_type": "execute_result"
    }
   ],
   "source": [
    "#making catrtesian product of 150 images\n",
    "f= cartesian(S, S)\n",
    "len(f)"
   ]
  },
  {
   "cell_type": "code",
   "execution_count": 13,
   "metadata": {
    "id": "FdfYneTvZnw7"
   },
   "outputs": [],
   "source": [
    "#making data frame of theis cartesian so that I have a dataframe of two columns which is \n",
    "#the cartesian product of each combination of two images. But, here still have both (A,B), (B,A) in\n",
    "ourdata= pd.DataFrame(data= f, columns= ('output1', 'output2'))"
   ]
  },
  {
   "cell_type": "markdown",
   "metadata": {
    "id": "emdyNS_A4NBg"
   },
   "source": [
    "making data frame of theis cartesian so that I have a dataframe of two columns which is the cartesian product of each combination of two images. But here, we have both (A,B), (B,A) in dataframe that is undesired because it produces duplicates for middle ones. The reason why I am using dataframe is because I want to use drop.duplicates command "
   ]
  },
  {
   "cell_type": "code",
   "execution_count": 14,
   "metadata": {
    "id": "SwCL76n1Znze"
   },
   "outputs": [],
   "source": [
    "#Here, I flattened the values of this dataframe and computed the middle of two images\n",
    "A= [ourdata['output1'][i].flatten() for i in range(len(f))]\n",
    "B= [ourdata['output2'][i].flatten() for i in range(len(f))]\n",
    "C= [A[i]/2+B[i]/2 for i in range(len(f))]"
   ]
  },
  {
   "cell_type": "code",
   "execution_count": 15,
   "metadata": {
    "colab": {
     "base_uri": "https://localhost:8080/",
     "height": 337
    },
    "id": "AKEjiMGbalZR",
    "outputId": "26c98dfc-a2e4-4b3f-f4fb-39aa7ab7f44f"
   },
   "outputs": [
    {
     "data": {
      "text/html": [
       "\n",
       "  <div id=\"df-3adf3f65-0d73-4499-bdcf-d72c27b3357b\">\n",
       "    <div class=\"colab-df-container\">\n",
       "      <div>\n",
       "<style scoped>\n",
       "    .dataframe tbody tr th:only-of-type {\n",
       "        vertical-align: middle;\n",
       "    }\n",
       "\n",
       "    .dataframe tbody tr th {\n",
       "        vertical-align: top;\n",
       "    }\n",
       "\n",
       "    .dataframe thead th {\n",
       "        text-align: right;\n",
       "    }\n",
       "</style>\n",
       "<table border=\"1\" class=\"dataframe\">\n",
       "  <thead>\n",
       "    <tr style=\"text-align: right;\">\n",
       "      <th></th>\n",
       "      <th>output1</th>\n",
       "      <th>output2</th>\n",
       "      <th>middle</th>\n",
       "    </tr>\n",
       "  </thead>\n",
       "  <tbody>\n",
       "    <tr>\n",
       "      <th>0</th>\n",
       "      <td>[211, 190, 147, 212, 190, 146, 208, 187, 143, ...</td>\n",
       "      <td>[211, 190, 147, 212, 190, 146, 208, 187, 143, ...</td>\n",
       "      <td>[211.0, 190.0, 147.0, 212.0, 190.0, 146.0, 208...</td>\n",
       "    </tr>\n",
       "    <tr>\n",
       "      <th>1</th>\n",
       "      <td>[246, 255, 248, 246, 250, 241, 149, 140, 122, ...</td>\n",
       "      <td>[211, 190, 147, 212, 190, 146, 208, 187, 143, ...</td>\n",
       "      <td>[228.5, 222.5, 197.5, 229.0, 220.0, 193.5, 178...</td>\n",
       "    </tr>\n",
       "    <tr>\n",
       "      <th>2</th>\n",
       "      <td>[89, 83, 55, 77, 72, 44, 99, 94, 66, 179, 175,...</td>\n",
       "      <td>[211, 190, 147, 212, 190, 146, 208, 187, 143, ...</td>\n",
       "      <td>[150.0, 136.5, 101.0, 144.5, 131.0, 95.0, 153....</td>\n",
       "    </tr>\n",
       "    <tr>\n",
       "      <th>3</th>\n",
       "      <td>[11, 4, 20, 11, 4, 20, 11, 4, 20, 11, 4, 20, 1...</td>\n",
       "      <td>[211, 190, 147, 212, 190, 146, 208, 187, 143, ...</td>\n",
       "      <td>[111.0, 97.0, 83.5, 111.5, 97.0, 83.0, 109.5, ...</td>\n",
       "    </tr>\n",
       "    <tr>\n",
       "      <th>4</th>\n",
       "      <td>[105, 115, 127, 103, 113, 125, 108, 117, 129, ...</td>\n",
       "      <td>[211, 190, 147, 212, 190, 146, 208, 187, 143, ...</td>\n",
       "      <td>[158.0, 152.5, 137.0, 157.5, 151.5, 135.5, 158...</td>\n",
       "    </tr>\n",
       "  </tbody>\n",
       "</table>\n",
       "</div>\n",
       "      <button class=\"colab-df-convert\" onclick=\"convertToInteractive('df-3adf3f65-0d73-4499-bdcf-d72c27b3357b')\"\n",
       "              title=\"Convert this dataframe to an interactive table.\"\n",
       "              style=\"display:none;\">\n",
       "        \n",
       "  <svg xmlns=\"http://www.w3.org/2000/svg\" height=\"24px\"viewBox=\"0 0 24 24\"\n",
       "       width=\"24px\">\n",
       "    <path d=\"M0 0h24v24H0V0z\" fill=\"none\"/>\n",
       "    <path d=\"M18.56 5.44l.94 2.06.94-2.06 2.06-.94-2.06-.94-.94-2.06-.94 2.06-2.06.94zm-11 1L8.5 8.5l.94-2.06 2.06-.94-2.06-.94L8.5 2.5l-.94 2.06-2.06.94zm10 10l.94 2.06.94-2.06 2.06-.94-2.06-.94-.94-2.06-.94 2.06-2.06.94z\"/><path d=\"M17.41 7.96l-1.37-1.37c-.4-.4-.92-.59-1.43-.59-.52 0-1.04.2-1.43.59L10.3 9.45l-7.72 7.72c-.78.78-.78 2.05 0 2.83L4 21.41c.39.39.9.59 1.41.59.51 0 1.02-.2 1.41-.59l7.78-7.78 2.81-2.81c.8-.78.8-2.07 0-2.86zM5.41 20L4 18.59l7.72-7.72 1.47 1.35L5.41 20z\"/>\n",
       "  </svg>\n",
       "      </button>\n",
       "      \n",
       "  <style>\n",
       "    .colab-df-container {\n",
       "      display:flex;\n",
       "      flex-wrap:wrap;\n",
       "      gap: 12px;\n",
       "    }\n",
       "\n",
       "    .colab-df-convert {\n",
       "      background-color: #E8F0FE;\n",
       "      border: none;\n",
       "      border-radius: 50%;\n",
       "      cursor: pointer;\n",
       "      display: none;\n",
       "      fill: #1967D2;\n",
       "      height: 32px;\n",
       "      padding: 0 0 0 0;\n",
       "      width: 32px;\n",
       "    }\n",
       "\n",
       "    .colab-df-convert:hover {\n",
       "      background-color: #E2EBFA;\n",
       "      box-shadow: 0px 1px 2px rgba(60, 64, 67, 0.3), 0px 1px 3px 1px rgba(60, 64, 67, 0.15);\n",
       "      fill: #174EA6;\n",
       "    }\n",
       "\n",
       "    [theme=dark] .colab-df-convert {\n",
       "      background-color: #3B4455;\n",
       "      fill: #D2E3FC;\n",
       "    }\n",
       "\n",
       "    [theme=dark] .colab-df-convert:hover {\n",
       "      background-color: #434B5C;\n",
       "      box-shadow: 0px 1px 3px 1px rgba(0, 0, 0, 0.15);\n",
       "      filter: drop-shadow(0px 1px 2px rgba(0, 0, 0, 0.3));\n",
       "      fill: #FFFFFF;\n",
       "    }\n",
       "  </style>\n",
       "\n",
       "      <script>\n",
       "        const buttonEl =\n",
       "          document.querySelector('#df-3adf3f65-0d73-4499-bdcf-d72c27b3357b button.colab-df-convert');\n",
       "        buttonEl.style.display =\n",
       "          google.colab.kernel.accessAllowed ? 'block' : 'none';\n",
       "\n",
       "        async function convertToInteractive(key) {\n",
       "          const element = document.querySelector('#df-3adf3f65-0d73-4499-bdcf-d72c27b3357b');\n",
       "          const dataTable =\n",
       "            await google.colab.kernel.invokeFunction('convertToInteractive',\n",
       "                                                     [key], {});\n",
       "          if (!dataTable) return;\n",
       "\n",
       "          const docLinkHtml = 'Like what you see? Visit the ' +\n",
       "            '<a target=\"_blank\" href=https://colab.research.google.com/notebooks/data_table.ipynb>data table notebook</a>'\n",
       "            + ' to learn more about interactive tables.';\n",
       "          element.innerHTML = '';\n",
       "          dataTable['output_type'] = 'display_data';\n",
       "          await google.colab.output.renderOutput(dataTable, element);\n",
       "          const docLink = document.createElement('div');\n",
       "          docLink.innerHTML = docLinkHtml;\n",
       "          element.appendChild(docLink);\n",
       "        }\n",
       "      </script>\n",
       "    </div>\n",
       "  </div>\n",
       "  "
      ],
      "text/plain": [
       "                                             output1  \\\n",
       "0  [211, 190, 147, 212, 190, 146, 208, 187, 143, ...   \n",
       "1  [246, 255, 248, 246, 250, 241, 149, 140, 122, ...   \n",
       "2  [89, 83, 55, 77, 72, 44, 99, 94, 66, 179, 175,...   \n",
       "3  [11, 4, 20, 11, 4, 20, 11, 4, 20, 11, 4, 20, 1...   \n",
       "4  [105, 115, 127, 103, 113, 125, 108, 117, 129, ...   \n",
       "\n",
       "                                             output2  \\\n",
       "0  [211, 190, 147, 212, 190, 146, 208, 187, 143, ...   \n",
       "1  [211, 190, 147, 212, 190, 146, 208, 187, 143, ...   \n",
       "2  [211, 190, 147, 212, 190, 146, 208, 187, 143, ...   \n",
       "3  [211, 190, 147, 212, 190, 146, 208, 187, 143, ...   \n",
       "4  [211, 190, 147, 212, 190, 146, 208, 187, 143, ...   \n",
       "\n",
       "                                              middle  \n",
       "0  [211.0, 190.0, 147.0, 212.0, 190.0, 146.0, 208...  \n",
       "1  [228.5, 222.5, 197.5, 229.0, 220.0, 193.5, 178...  \n",
       "2  [150.0, 136.5, 101.0, 144.5, 131.0, 95.0, 153....  \n",
       "3  [111.0, 97.0, 83.5, 111.5, 97.0, 83.0, 109.5, ...  \n",
       "4  [158.0, 152.5, 137.0, 157.5, 151.5, 135.5, 158...  "
      ]
     },
     "execution_count": 15,
     "metadata": {},
     "output_type": "execute_result"
    }
   ],
   "source": [
    "our_data= pd.DataFrame({'output1':A, 'output2':B, 'middle':C})\n",
    "our_data.head()"
   ]
  },
  {
   "cell_type": "code",
   "execution_count": 16,
   "metadata": {
    "id": "QhPCXRPuw3pl"
   },
   "outputs": [],
   "source": [
    "#Here, drop duplicates for the column 'middle'\n",
    "new_data = our_data[~our_data['middle'].apply(tuple).duplicated()]\n"
   ]
  },
  {
   "cell_type": "code",
   "execution_count": 17,
   "metadata": {
    "colab": {
     "base_uri": "https://localhost:8080/",
     "height": 337
    },
    "id": "vAbtawYaalh8",
    "outputId": "53d972c4-c4ec-432f-ba5b-34183ccd34ae"
   },
   "outputs": [
    {
     "data": {
      "text/html": [
       "\n",
       "  <div id=\"df-6afbf96b-af00-4eda-be9b-33df84187098\">\n",
       "    <div class=\"colab-df-container\">\n",
       "      <div>\n",
       "<style scoped>\n",
       "    .dataframe tbody tr th:only-of-type {\n",
       "        vertical-align: middle;\n",
       "    }\n",
       "\n",
       "    .dataframe tbody tr th {\n",
       "        vertical-align: top;\n",
       "    }\n",
       "\n",
       "    .dataframe thead th {\n",
       "        text-align: right;\n",
       "    }\n",
       "</style>\n",
       "<table border=\"1\" class=\"dataframe\">\n",
       "  <thead>\n",
       "    <tr style=\"text-align: right;\">\n",
       "      <th></th>\n",
       "      <th>output1</th>\n",
       "      <th>output2</th>\n",
       "      <th>middle</th>\n",
       "    </tr>\n",
       "  </thead>\n",
       "  <tbody>\n",
       "    <tr>\n",
       "      <th>0</th>\n",
       "      <td>[211, 190, 147, 212, 190, 146, 208, 187, 143, ...</td>\n",
       "      <td>[211, 190, 147, 212, 190, 146, 208, 187, 143, ...</td>\n",
       "      <td>[211.0, 190.0, 147.0, 212.0, 190.0, 146.0, 208...</td>\n",
       "    </tr>\n",
       "    <tr>\n",
       "      <th>1</th>\n",
       "      <td>[246, 255, 248, 246, 250, 241, 149, 140, 122, ...</td>\n",
       "      <td>[211, 190, 147, 212, 190, 146, 208, 187, 143, ...</td>\n",
       "      <td>[228.5, 222.5, 197.5, 229.0, 220.0, 193.5, 178...</td>\n",
       "    </tr>\n",
       "    <tr>\n",
       "      <th>2</th>\n",
       "      <td>[89, 83, 55, 77, 72, 44, 99, 94, 66, 179, 175,...</td>\n",
       "      <td>[211, 190, 147, 212, 190, 146, 208, 187, 143, ...</td>\n",
       "      <td>[150.0, 136.5, 101.0, 144.5, 131.0, 95.0, 153....</td>\n",
       "    </tr>\n",
       "    <tr>\n",
       "      <th>3</th>\n",
       "      <td>[11, 4, 20, 11, 4, 20, 11, 4, 20, 11, 4, 20, 1...</td>\n",
       "      <td>[211, 190, 147, 212, 190, 146, 208, 187, 143, ...</td>\n",
       "      <td>[111.0, 97.0, 83.5, 111.5, 97.0, 83.0, 109.5, ...</td>\n",
       "    </tr>\n",
       "    <tr>\n",
       "      <th>4</th>\n",
       "      <td>[105, 115, 127, 103, 113, 125, 108, 117, 129, ...</td>\n",
       "      <td>[211, 190, 147, 212, 190, 146, 208, 187, 143, ...</td>\n",
       "      <td>[158.0, 152.5, 137.0, 157.5, 151.5, 135.5, 158...</td>\n",
       "    </tr>\n",
       "  </tbody>\n",
       "</table>\n",
       "</div>\n",
       "      <button class=\"colab-df-convert\" onclick=\"convertToInteractive('df-6afbf96b-af00-4eda-be9b-33df84187098')\"\n",
       "              title=\"Convert this dataframe to an interactive table.\"\n",
       "              style=\"display:none;\">\n",
       "        \n",
       "  <svg xmlns=\"http://www.w3.org/2000/svg\" height=\"24px\"viewBox=\"0 0 24 24\"\n",
       "       width=\"24px\">\n",
       "    <path d=\"M0 0h24v24H0V0z\" fill=\"none\"/>\n",
       "    <path d=\"M18.56 5.44l.94 2.06.94-2.06 2.06-.94-2.06-.94-.94-2.06-.94 2.06-2.06.94zm-11 1L8.5 8.5l.94-2.06 2.06-.94-2.06-.94L8.5 2.5l-.94 2.06-2.06.94zm10 10l.94 2.06.94-2.06 2.06-.94-2.06-.94-.94-2.06-.94 2.06-2.06.94z\"/><path d=\"M17.41 7.96l-1.37-1.37c-.4-.4-.92-.59-1.43-.59-.52 0-1.04.2-1.43.59L10.3 9.45l-7.72 7.72c-.78.78-.78 2.05 0 2.83L4 21.41c.39.39.9.59 1.41.59.51 0 1.02-.2 1.41-.59l7.78-7.78 2.81-2.81c.8-.78.8-2.07 0-2.86zM5.41 20L4 18.59l7.72-7.72 1.47 1.35L5.41 20z\"/>\n",
       "  </svg>\n",
       "      </button>\n",
       "      \n",
       "  <style>\n",
       "    .colab-df-container {\n",
       "      display:flex;\n",
       "      flex-wrap:wrap;\n",
       "      gap: 12px;\n",
       "    }\n",
       "\n",
       "    .colab-df-convert {\n",
       "      background-color: #E8F0FE;\n",
       "      border: none;\n",
       "      border-radius: 50%;\n",
       "      cursor: pointer;\n",
       "      display: none;\n",
       "      fill: #1967D2;\n",
       "      height: 32px;\n",
       "      padding: 0 0 0 0;\n",
       "      width: 32px;\n",
       "    }\n",
       "\n",
       "    .colab-df-convert:hover {\n",
       "      background-color: #E2EBFA;\n",
       "      box-shadow: 0px 1px 2px rgba(60, 64, 67, 0.3), 0px 1px 3px 1px rgba(60, 64, 67, 0.15);\n",
       "      fill: #174EA6;\n",
       "    }\n",
       "\n",
       "    [theme=dark] .colab-df-convert {\n",
       "      background-color: #3B4455;\n",
       "      fill: #D2E3FC;\n",
       "    }\n",
       "\n",
       "    [theme=dark] .colab-df-convert:hover {\n",
       "      background-color: #434B5C;\n",
       "      box-shadow: 0px 1px 3px 1px rgba(0, 0, 0, 0.15);\n",
       "      filter: drop-shadow(0px 1px 2px rgba(0, 0, 0, 0.3));\n",
       "      fill: #FFFFFF;\n",
       "    }\n",
       "  </style>\n",
       "\n",
       "      <script>\n",
       "        const buttonEl =\n",
       "          document.querySelector('#df-6afbf96b-af00-4eda-be9b-33df84187098 button.colab-df-convert');\n",
       "        buttonEl.style.display =\n",
       "          google.colab.kernel.accessAllowed ? 'block' : 'none';\n",
       "\n",
       "        async function convertToInteractive(key) {\n",
       "          const element = document.querySelector('#df-6afbf96b-af00-4eda-be9b-33df84187098');\n",
       "          const dataTable =\n",
       "            await google.colab.kernel.invokeFunction('convertToInteractive',\n",
       "                                                     [key], {});\n",
       "          if (!dataTable) return;\n",
       "\n",
       "          const docLinkHtml = 'Like what you see? Visit the ' +\n",
       "            '<a target=\"_blank\" href=https://colab.research.google.com/notebooks/data_table.ipynb>data table notebook</a>'\n",
       "            + ' to learn more about interactive tables.';\n",
       "          element.innerHTML = '';\n",
       "          dataTable['output_type'] = 'display_data';\n",
       "          await google.colab.output.renderOutput(dataTable, element);\n",
       "          const docLink = document.createElement('div');\n",
       "          docLink.innerHTML = docLinkHtml;\n",
       "          element.appendChild(docLink);\n",
       "        }\n",
       "      </script>\n",
       "    </div>\n",
       "  </div>\n",
       "  "
      ],
      "text/plain": [
       "                                             output1  \\\n",
       "0  [211, 190, 147, 212, 190, 146, 208, 187, 143, ...   \n",
       "1  [246, 255, 248, 246, 250, 241, 149, 140, 122, ...   \n",
       "2  [89, 83, 55, 77, 72, 44, 99, 94, 66, 179, 175,...   \n",
       "3  [11, 4, 20, 11, 4, 20, 11, 4, 20, 11, 4, 20, 1...   \n",
       "4  [105, 115, 127, 103, 113, 125, 108, 117, 129, ...   \n",
       "\n",
       "                                             output2  \\\n",
       "0  [211, 190, 147, 212, 190, 146, 208, 187, 143, ...   \n",
       "1  [211, 190, 147, 212, 190, 146, 208, 187, 143, ...   \n",
       "2  [211, 190, 147, 212, 190, 146, 208, 187, 143, ...   \n",
       "3  [211, 190, 147, 212, 190, 146, 208, 187, 143, ...   \n",
       "4  [211, 190, 147, 212, 190, 146, 208, 187, 143, ...   \n",
       "\n",
       "                                              middle  \n",
       "0  [211.0, 190.0, 147.0, 212.0, 190.0, 146.0, 208...  \n",
       "1  [228.5, 222.5, 197.5, 229.0, 220.0, 193.5, 178...  \n",
       "2  [150.0, 136.5, 101.0, 144.5, 131.0, 95.0, 153....  \n",
       "3  [111.0, 97.0, 83.5, 111.5, 97.0, 83.0, 109.5, ...  \n",
       "4  [158.0, 152.5, 137.0, 157.5, 151.5, 135.5, 158...  "
      ]
     },
     "execution_count": 17,
     "metadata": {},
     "output_type": "execute_result"
    }
   ],
   "source": [
    "new_data.head()"
   ]
  },
  {
   "cell_type": "code",
   "execution_count": 18,
   "metadata": {
    "colab": {
     "base_uri": "https://localhost:8080/",
     "height": 641
    },
    "id": "rZ864DBTallK",
    "outputId": "bdd0d7e1-c632-4584-fd4b-10999d775ef2"
   },
   "outputs": [
    {
     "data": {
      "text/html": [
       "\n",
       "  <div id=\"df-e3623da3-25e6-4d28-a98f-0d5fb7d0cf9e\">\n",
       "    <div class=\"colab-df-container\">\n",
       "      <div>\n",
       "<style scoped>\n",
       "    .dataframe tbody tr th:only-of-type {\n",
       "        vertical-align: middle;\n",
       "    }\n",
       "\n",
       "    .dataframe tbody tr th {\n",
       "        vertical-align: top;\n",
       "    }\n",
       "\n",
       "    .dataframe thead th {\n",
       "        text-align: right;\n",
       "    }\n",
       "</style>\n",
       "<table border=\"1\" class=\"dataframe\">\n",
       "  <thead>\n",
       "    <tr style=\"text-align: right;\">\n",
       "      <th></th>\n",
       "      <th>output1</th>\n",
       "      <th>output2</th>\n",
       "      <th>middle</th>\n",
       "    </tr>\n",
       "  </thead>\n",
       "  <tbody>\n",
       "    <tr>\n",
       "      <th>0</th>\n",
       "      <td>[221, 211, 210, 222, 212, 211, 222, 211, 209, ...</td>\n",
       "      <td>[111, 105, 108, 117, 114, 109, 126, 126, 120, ...</td>\n",
       "      <td>[166.0, 158.0, 159.0, 169.5, 163.0, 160.0, 174...</td>\n",
       "    </tr>\n",
       "    <tr>\n",
       "      <th>1</th>\n",
       "      <td>[0, 0, 4, 0, 2, 5, 2, 3, 8, 16, 5, 8, 54, 22, ...</td>\n",
       "      <td>[64, 148, 186, 65, 148, 186, 67, 150, 189, 69,...</td>\n",
       "      <td>[32.0, 74.0, 95.0, 32.5, 75.0, 95.5, 34.5, 76....</td>\n",
       "    </tr>\n",
       "    <tr>\n",
       "      <th>2</th>\n",
       "      <td>[209, 195, 179, 215, 203, 186, 200, 188, 173, ...</td>\n",
       "      <td>[155, 166, 192, 157, 167, 193, 158, 168, 193, ...</td>\n",
       "      <td>[182.0, 180.5, 185.5, 186.0, 185.0, 189.5, 179...</td>\n",
       "    </tr>\n",
       "    <tr>\n",
       "      <th>3</th>\n",
       "      <td>[119, 146, 175, 121, 148, 177, 122, 149, 177, ...</td>\n",
       "      <td>[130, 122, 84, 131, 114, 85, 146, 120, 88, 152...</td>\n",
       "      <td>[124.5, 134.0, 129.5, 126.0, 131.0, 131.0, 134...</td>\n",
       "    </tr>\n",
       "    <tr>\n",
       "      <th>4</th>\n",
       "      <td>[251, 252, 250, 249, 250, 248, 249, 250, 247, ...</td>\n",
       "      <td>[0, 4, 7, 0, 4, 7, 0, 4, 7, 0, 4, 7, 0, 4, 7, ...</td>\n",
       "      <td>[125.5, 128.0, 128.5, 124.5, 127.0, 127.5, 124...</td>\n",
       "    </tr>\n",
       "    <tr>\n",
       "      <th>...</th>\n",
       "      <td>...</td>\n",
       "      <td>...</td>\n",
       "      <td>...</td>\n",
       "    </tr>\n",
       "    <tr>\n",
       "      <th>11320</th>\n",
       "      <td>[255, 255, 253, 253, 254, 249, 253, 254, 249, ...</td>\n",
       "      <td>[90, 46, 26, 96, 47, 25, 89, 35, 12, 102, 44, ...</td>\n",
       "      <td>[172.5, 150.5, 139.5, 174.5, 150.5, 137.0, 171...</td>\n",
       "    </tr>\n",
       "    <tr>\n",
       "      <th>11321</th>\n",
       "      <td>[17, 17, 17, 18, 18, 18, 24, 22, 22, 33, 29, 3...</td>\n",
       "      <td>[238, 237, 232, 235, 234, 228, 235, 234, 229, ...</td>\n",
       "      <td>[127.5, 127.0, 124.5, 126.5, 126.0, 123.0, 129...</td>\n",
       "    </tr>\n",
       "    <tr>\n",
       "      <th>11322</th>\n",
       "      <td>[221, 177, 108, 230, 193, 119, 239, 206, 125, ...</td>\n",
       "      <td>[221, 211, 210, 222, 212, 211, 222, 211, 209, ...</td>\n",
       "      <td>[221.0, 194.0, 159.0, 226.0, 202.5, 165.0, 230...</td>\n",
       "    </tr>\n",
       "    <tr>\n",
       "      <th>11323</th>\n",
       "      <td>[119, 146, 175, 121, 148, 177, 122, 149, 177, ...</td>\n",
       "      <td>[255, 255, 255, 255, 255, 255, 255, 255, 255, ...</td>\n",
       "      <td>[187.0, 200.5, 215.0, 188.0, 201.5, 216.0, 188...</td>\n",
       "    </tr>\n",
       "    <tr>\n",
       "      <th>11324</th>\n",
       "      <td>[209, 195, 179, 215, 203, 186, 200, 188, 173, ...</td>\n",
       "      <td>[140, 134, 136, 150, 144, 146, 156, 150, 152, ...</td>\n",
       "      <td>[174.5, 164.5, 157.5, 182.5, 173.5, 166.0, 178...</td>\n",
       "    </tr>\n",
       "  </tbody>\n",
       "</table>\n",
       "<p>11325 rows × 3 columns</p>\n",
       "</div>\n",
       "      <button class=\"colab-df-convert\" onclick=\"convertToInteractive('df-e3623da3-25e6-4d28-a98f-0d5fb7d0cf9e')\"\n",
       "              title=\"Convert this dataframe to an interactive table.\"\n",
       "              style=\"display:none;\">\n",
       "        \n",
       "  <svg xmlns=\"http://www.w3.org/2000/svg\" height=\"24px\"viewBox=\"0 0 24 24\"\n",
       "       width=\"24px\">\n",
       "    <path d=\"M0 0h24v24H0V0z\" fill=\"none\"/>\n",
       "    <path d=\"M18.56 5.44l.94 2.06.94-2.06 2.06-.94-2.06-.94-.94-2.06-.94 2.06-2.06.94zm-11 1L8.5 8.5l.94-2.06 2.06-.94-2.06-.94L8.5 2.5l-.94 2.06-2.06.94zm10 10l.94 2.06.94-2.06 2.06-.94-2.06-.94-.94-2.06-.94 2.06-2.06.94z\"/><path d=\"M17.41 7.96l-1.37-1.37c-.4-.4-.92-.59-1.43-.59-.52 0-1.04.2-1.43.59L10.3 9.45l-7.72 7.72c-.78.78-.78 2.05 0 2.83L4 21.41c.39.39.9.59 1.41.59.51 0 1.02-.2 1.41-.59l7.78-7.78 2.81-2.81c.8-.78.8-2.07 0-2.86zM5.41 20L4 18.59l7.72-7.72 1.47 1.35L5.41 20z\"/>\n",
       "  </svg>\n",
       "      </button>\n",
       "      \n",
       "  <style>\n",
       "    .colab-df-container {\n",
       "      display:flex;\n",
       "      flex-wrap:wrap;\n",
       "      gap: 12px;\n",
       "    }\n",
       "\n",
       "    .colab-df-convert {\n",
       "      background-color: #E8F0FE;\n",
       "      border: none;\n",
       "      border-radius: 50%;\n",
       "      cursor: pointer;\n",
       "      display: none;\n",
       "      fill: #1967D2;\n",
       "      height: 32px;\n",
       "      padding: 0 0 0 0;\n",
       "      width: 32px;\n",
       "    }\n",
       "\n",
       "    .colab-df-convert:hover {\n",
       "      background-color: #E2EBFA;\n",
       "      box-shadow: 0px 1px 2px rgba(60, 64, 67, 0.3), 0px 1px 3px 1px rgba(60, 64, 67, 0.15);\n",
       "      fill: #174EA6;\n",
       "    }\n",
       "\n",
       "    [theme=dark] .colab-df-convert {\n",
       "      background-color: #3B4455;\n",
       "      fill: #D2E3FC;\n",
       "    }\n",
       "\n",
       "    [theme=dark] .colab-df-convert:hover {\n",
       "      background-color: #434B5C;\n",
       "      box-shadow: 0px 1px 3px 1px rgba(0, 0, 0, 0.15);\n",
       "      filter: drop-shadow(0px 1px 2px rgba(0, 0, 0, 0.3));\n",
       "      fill: #FFFFFF;\n",
       "    }\n",
       "  </style>\n",
       "\n",
       "      <script>\n",
       "        const buttonEl =\n",
       "          document.querySelector('#df-e3623da3-25e6-4d28-a98f-0d5fb7d0cf9e button.colab-df-convert');\n",
       "        buttonEl.style.display =\n",
       "          google.colab.kernel.accessAllowed ? 'block' : 'none';\n",
       "\n",
       "        async function convertToInteractive(key) {\n",
       "          const element = document.querySelector('#df-e3623da3-25e6-4d28-a98f-0d5fb7d0cf9e');\n",
       "          const dataTable =\n",
       "            await google.colab.kernel.invokeFunction('convertToInteractive',\n",
       "                                                     [key], {});\n",
       "          if (!dataTable) return;\n",
       "\n",
       "          const docLinkHtml = 'Like what you see? Visit the ' +\n",
       "            '<a target=\"_blank\" href=https://colab.research.google.com/notebooks/data_table.ipynb>data table notebook</a>'\n",
       "            + ' to learn more about interactive tables.';\n",
       "          element.innerHTML = '';\n",
       "          dataTable['output_type'] = 'display_data';\n",
       "          await google.colab.output.renderOutput(dataTable, element);\n",
       "          const docLink = document.createElement('div');\n",
       "          docLink.innerHTML = docLinkHtml;\n",
       "          element.appendChild(docLink);\n",
       "        }\n",
       "      </script>\n",
       "    </div>\n",
       "  </div>\n",
       "  "
      ],
      "text/plain": [
       "                                                 output1  \\\n",
       "0      [221, 211, 210, 222, 212, 211, 222, 211, 209, ...   \n",
       "1      [0, 0, 4, 0, 2, 5, 2, 3, 8, 16, 5, 8, 54, 22, ...   \n",
       "2      [209, 195, 179, 215, 203, 186, 200, 188, 173, ...   \n",
       "3      [119, 146, 175, 121, 148, 177, 122, 149, 177, ...   \n",
       "4      [251, 252, 250, 249, 250, 248, 249, 250, 247, ...   \n",
       "...                                                  ...   \n",
       "11320  [255, 255, 253, 253, 254, 249, 253, 254, 249, ...   \n",
       "11321  [17, 17, 17, 18, 18, 18, 24, 22, 22, 33, 29, 3...   \n",
       "11322  [221, 177, 108, 230, 193, 119, 239, 206, 125, ...   \n",
       "11323  [119, 146, 175, 121, 148, 177, 122, 149, 177, ...   \n",
       "11324  [209, 195, 179, 215, 203, 186, 200, 188, 173, ...   \n",
       "\n",
       "                                                 output2  \\\n",
       "0      [111, 105, 108, 117, 114, 109, 126, 126, 120, ...   \n",
       "1      [64, 148, 186, 65, 148, 186, 67, 150, 189, 69,...   \n",
       "2      [155, 166, 192, 157, 167, 193, 158, 168, 193, ...   \n",
       "3      [130, 122, 84, 131, 114, 85, 146, 120, 88, 152...   \n",
       "4      [0, 4, 7, 0, 4, 7, 0, 4, 7, 0, 4, 7, 0, 4, 7, ...   \n",
       "...                                                  ...   \n",
       "11320  [90, 46, 26, 96, 47, 25, 89, 35, 12, 102, 44, ...   \n",
       "11321  [238, 237, 232, 235, 234, 228, 235, 234, 229, ...   \n",
       "11322  [221, 211, 210, 222, 212, 211, 222, 211, 209, ...   \n",
       "11323  [255, 255, 255, 255, 255, 255, 255, 255, 255, ...   \n",
       "11324  [140, 134, 136, 150, 144, 146, 156, 150, 152, ...   \n",
       "\n",
       "                                                  middle  \n",
       "0      [166.0, 158.0, 159.0, 169.5, 163.0, 160.0, 174...  \n",
       "1      [32.0, 74.0, 95.0, 32.5, 75.0, 95.5, 34.5, 76....  \n",
       "2      [182.0, 180.5, 185.5, 186.0, 185.0, 189.5, 179...  \n",
       "3      [124.5, 134.0, 129.5, 126.0, 131.0, 131.0, 134...  \n",
       "4      [125.5, 128.0, 128.5, 124.5, 127.0, 127.5, 124...  \n",
       "...                                                  ...  \n",
       "11320  [172.5, 150.5, 139.5, 174.5, 150.5, 137.0, 171...  \n",
       "11321  [127.5, 127.0, 124.5, 126.5, 126.0, 123.0, 129...  \n",
       "11322  [221.0, 194.0, 159.0, 226.0, 202.5, 165.0, 230...  \n",
       "11323  [187.0, 200.5, 215.0, 188.0, 201.5, 216.0, 188...  \n",
       "11324  [174.5, 164.5, 157.5, 182.5, 173.5, 166.0, 178...  \n",
       "\n",
       "[11325 rows x 3 columns]"
      ]
     },
     "execution_count": 18,
     "metadata": {},
     "output_type": "execute_result"
    }
   ],
   "source": [
    "#Here, I shuffled the rows of our dataframe and called the new dataframe as 'shuffled'\n",
    "shuffled = new_data.sample(frac=1)\n",
    "shuffled = shuffled.reset_index()\n",
    "del shuffled['index']\n",
    "shuffled"
   ]
  },
  {
   "cell_type": "code",
   "execution_count": 19,
   "metadata": {
    "colab": {
     "base_uri": "https://localhost:8080/"
    },
    "id": "GwMtM8k3alrV",
    "outputId": "5b520b89-e18d-44d9-fe9e-26bf24bebbc6"
   },
   "outputs": [
    {
     "name": "stdout",
     "output_type": "stream",
     "text": [
      "7927\n"
     ]
    }
   ],
   "source": [
    "#definig train size and test size . Our train data is .7 of the size of our data\n",
    "train_size= int(.7* len(shuffled))\n",
    "test_size= len(shuffled)- train_size\n",
    "print(train_size)"
   ]
  },
  {
   "cell_type": "markdown",
   "metadata": {
    "id": "_ztnSaVd6a22"
   },
   "source": [
    "Now, I devide our data into train and test set. I use the first 7927 data for train and the rest for the test part (as our data has become shuffled, it is absolutely ok to use first indices for train and rest for test and actually I shuffled the data for this reason)."
   ]
  },
  {
   "cell_type": "code",
   "execution_count": 20,
   "metadata": {
    "id": "KnZrmjzdalvJ"
   },
   "outputs": [],
   "source": [
    "imag1tr= shuffled['output1'][:train_size]\n",
    "imag2tr= shuffled['output2'][:train_size]\n",
    "middtr= shuffled['middle'][:train_size]\n",
    "\n",
    "imag1te= shuffled['output1'][train_size:]\n",
    "imag2te= shuffled['output2'][train_size:]\n",
    "middte= shuffled['middle'][train_size:]"
   ]
  },
  {
   "cell_type": "code",
   "execution_count": 21,
   "metadata": {
    "id": "sQPgHtI8bH0E"
   },
   "outputs": [],
   "source": [
    "#making a list af train and test data to produce dataloader\n",
    "train_data = []\n",
    "for i in range(train_size):\n",
    "    train_data.append([imag1tr[i], imag2tr[i], middtr[i]])\n",
    "\n",
    "test_data = []\n",
    "for i in range(test_size):\n",
    "    test_data.append([imag1te[train_size+i], imag2te[train_size+i], middte[train_size+i]])"
   ]
  },
  {
   "cell_type": "code",
   "execution_count": 22,
   "metadata": {
    "colab": {
     "base_uri": "https://localhost:8080/"
    },
    "id": "Mjt_jzzYbH3Q",
    "outputId": "45d8eeea-2f90-4c41-e6f0-1d88f90d8119"
   },
   "outputs": [
    {
     "name": "stdout",
     "output_type": "stream",
     "text": [
      "torch.Size([20, 3072])\n",
      "torch.Size([20, 3072])\n",
      "torch.Size([20, 3072])\n"
     ]
    }
   ],
   "source": [
    "#making train and test dataloader for our network\n",
    "trainloader = torch.utils.data.DataLoader(train_data, shuffle=False, batch_size=20)\n",
    "img1_tr, img2_tr, midd_tr = next(iter(trainloader))\n",
    "print(img1_tr.shape)\n",
    "print(img2_tr.shape)\n",
    "print(midd_tr.shape)\n",
    "\n",
    "testloader = torch.utils.data.DataLoader(test_data, shuffle=False, batch_size=1)\n",
    "img1_te, img2_te, midd_te = next(iter(trainloader))"
   ]
  },
  {
   "cell_type": "markdown",
   "metadata": {
    "id": "rrKIrzTp7zmv"
   },
   "source": [
    "I define the network here. As its a very simple task, I used a very simple network with very few parameters. \n",
    "The way I decided to solve this problem, is that firstly, I designed a network that learn how to produce the middle of the two images by training and backpropagating loss. It learns that:\n",
    " e((aX+b)+(cY+d))+f= Middle matrix\n",
    "where X and Y are inputs and a,b,c,d,e,f are scalers that network tried to learn. \n",
    "My idea is that then, for a simple input Z which is (X+Y)/2 for an X and Y image, network uses its learnt weights and by a function called predicting, it predicts the output of set of (X',Y')s and see which output is closer to Z. Then, it returns the (X',Y') that it thinks that corresponds to producing that Z."
   ]
  },
  {
   "cell_type": "code",
   "execution_count": 23,
   "metadata": {
    "id": "5H895SYXbH71"
   },
   "outputs": [],
   "source": [
    "class myNet(nn.Module):\n",
    "    def __init__(self):\n",
    "        super(myNet, self).__init__()\n",
    "        \n",
    "        #As middle matrix is the same size as both inputs, its predictable that network can be a simple linear\n",
    "        #combination of X and Y as input. But still, could make network more complicated adding layers\n",
    "        #with different output size as hidden layers \n",
    "        \n",
    "        self.fc1 = nn.Linear(3072, 3072)  # set up FC layer for input X \n",
    "        self.fc2 = nn.Linear(3072, 3072)  # set up the other FC layer for Y\n",
    "        self.fc3 = nn.Linear(3072, 3072)  # set up the other FC layer for Z=(X+Y)/2\n",
    "\n",
    "    def forward(self, input1, input2):\n",
    "        a = self.fc1(input1)\n",
    "        a.to(device)\n",
    "\n",
    "        b = self.fc2(input2)\n",
    "        b.to(device)\n",
    "        combined = a+b\n",
    "        out = self.fc3(combined)\n",
    "        out.to(device)\n",
    "        return out"
   ]
  },
  {
   "cell_type": "code",
   "execution_count": 24,
   "metadata": {
    "colab": {
     "base_uri": "https://localhost:8080/"
    },
    "id": "Hv2g9HFgbVrk",
    "outputId": "92770b8f-6fba-4e6e-bb51-37b8f55470b5"
   },
   "outputs": [
    {
     "data": {
      "text/plain": [
       "myNet(\n",
       "  (fc1): Linear(in_features=3072, out_features=3072, bias=True)\n",
       "  (fc2): Linear(in_features=3072, out_features=3072, bias=True)\n",
       "  (fc3): Linear(in_features=3072, out_features=3072, bias=True)\n",
       ")"
      ]
     },
     "execution_count": 24,
     "metadata": {},
     "output_type": "execute_result"
    }
   ],
   "source": [
    "device = torch.device('cuda' if torch.cuda.is_available() else 'cpu')\n",
    "model= myNet()\n",
    "model= model.to(device)\n",
    "model"
   ]
  },
  {
   "cell_type": "code",
   "execution_count": 25,
   "metadata": {
    "id": "ywsPJWM-bVuu"
   },
   "outputs": [],
   "source": [
    "criterion = nn.MSELoss()                            #loss function. there are alternatives as CrossEntropy loss\n",
    "optimizer= optim.Adam(model.parameters(), lr= .002) #optimizer. There are alternatives such as SGD, RMSprop"
   ]
  },
  {
   "cell_type": "code",
   "execution_count": 67,
   "metadata": {
    "colab": {
     "base_uri": "https://localhost:8080/"
    },
    "id": "wP9iP8arbV11",
    "outputId": "1113d82b-acad-4780-e4f3-29e765140993"
   },
   "outputs": [
    {
     "name": "stdout",
     "output_type": "stream",
     "text": [
      "Epoch [ 1/10], Step [ 50/396], Loss: 1000.0692\n",
      "Epoch [ 1/10], Step [100/396], Loss: 538.8533\n",
      "Epoch [ 1/10], Step [150/396], Loss: 222.4758\n",
      "Epoch [ 1/10], Step [200/396], Loss: 256.2907\n",
      "Epoch [ 1/10], Step [250/396], Loss: 267.9098\n",
      "Epoch [ 1/10], Step [300/396], Loss: 351.7468\n",
      "Epoch [ 1/10], Step [350/396], Loss: 198.0839\n",
      "Epoch [ 2/10], Step [ 50/396], Loss: 237.7429\n",
      "Epoch [ 2/10], Step [100/396], Loss: 350.0895\n",
      "Epoch [ 2/10], Step [150/396], Loss: 171.3892\n",
      "Epoch [ 2/10], Step [200/396], Loss: 213.7456\n",
      "Epoch [ 2/10], Step [250/396], Loss: 185.6146\n",
      "Epoch [ 2/10], Step [300/396], Loss: 277.1415\n",
      "Epoch [ 2/10], Step [350/396], Loss: 855.8748\n",
      "Epoch [ 3/10], Step [ 50/396], Loss: 208.6845\n",
      "Epoch [ 3/10], Step [100/396], Loss: 595.3640\n",
      "Epoch [ 3/10], Step [150/396], Loss: 139.2513\n",
      "Epoch [ 3/10], Step [200/396], Loss: 132.9788\n",
      "Epoch [ 3/10], Step [250/396], Loss: 142.9419\n",
      "Epoch [ 3/10], Step [300/396], Loss: 155.6466\n",
      "Epoch [ 3/10], Step [350/396], Loss: 143.7711\n",
      "Epoch [ 4/10], Step [ 50/396], Loss: 605.3184\n",
      "Epoch [ 4/10], Step [100/396], Loss: 233.2439\n",
      "Epoch [ 4/10], Step [150/396], Loss: 97.3737\n",
      "Epoch [ 4/10], Step [200/396], Loss: 123.3874\n",
      "Epoch [ 4/10], Step [250/396], Loss: 105.7236\n",
      "Epoch [ 4/10], Step [300/396], Loss: 100.0530\n",
      "Epoch [ 4/10], Step [350/396], Loss: 146.1249\n",
      "Epoch [ 5/10], Step [ 50/396], Loss: 563.4905\n",
      "Epoch [ 5/10], Step [100/396], Loss: 198.0635\n",
      "Epoch [ 5/10], Step [150/396], Loss: 92.3492\n",
      "Epoch [ 5/10], Step [200/396], Loss: 77.6551\n",
      "Epoch [ 5/10], Step [250/396], Loss: 98.4597\n",
      "Epoch [ 5/10], Step [300/396], Loss: 83.9525\n",
      "Epoch [ 5/10], Step [350/396], Loss: 80.4968\n",
      "Epoch [ 6/10], Step [ 50/396], Loss: 78.1322\n",
      "Epoch [ 6/10], Step [100/396], Loss: 105.6928\n",
      "Epoch [ 6/10], Step [150/396], Loss: 66.0160\n",
      "Epoch [ 6/10], Step [200/396], Loss: 58.9661\n",
      "Epoch [ 6/10], Step [250/396], Loss: 67.1477\n",
      "Epoch [ 6/10], Step [300/396], Loss: 59.3764\n",
      "Epoch [ 6/10], Step [350/396], Loss: 64.5245\n",
      "Epoch [ 7/10], Step [ 50/396], Loss: 206.8575\n",
      "Epoch [ 7/10], Step [100/396], Loss: 153.9637\n",
      "Epoch [ 7/10], Step [150/396], Loss: 71.2383\n",
      "Epoch [ 7/10], Step [200/396], Loss: 49.5839\n",
      "Epoch [ 7/10], Step [250/396], Loss: 49.9544\n",
      "Epoch [ 7/10], Step [300/396], Loss: 51.7563\n",
      "Epoch [ 7/10], Step [350/396], Loss: 46.9643\n",
      "Epoch [ 8/10], Step [ 50/396], Loss: 41.4844\n",
      "Epoch [ 8/10], Step [100/396], Loss: 61.6352\n",
      "Epoch [ 8/10], Step [150/396], Loss: 32.8524\n",
      "Epoch [ 8/10], Step [200/396], Loss: 32.0924\n",
      "Epoch [ 8/10], Step [250/396], Loss: 36.9032\n",
      "Epoch [ 8/10], Step [300/396], Loss: 35.8453\n",
      "Epoch [ 8/10], Step [350/396], Loss: 87.0917\n",
      "Epoch [ 9/10], Step [ 50/396], Loss: 109.4060\n",
      "Epoch [ 9/10], Step [100/396], Loss: 172.3404\n",
      "Epoch [ 9/10], Step [150/396], Loss: 47.7063\n",
      "Epoch [ 9/10], Step [200/396], Loss: 26.5896\n",
      "Epoch [ 9/10], Step [250/396], Loss: 29.3986\n",
      "Epoch [ 9/10], Step [300/396], Loss: 27.5572\n",
      "Epoch [ 9/10], Step [350/396], Loss: 24.7558\n",
      "Epoch [10/10], Step [ 50/396], Loss: 25.8601\n",
      "Epoch [10/10], Step [100/396], Loss: 40.9479\n",
      "Epoch [10/10], Step [150/396], Loss: 20.2300\n",
      "Epoch [10/10], Step [200/396], Loss: 21.1895\n",
      "Epoch [10/10], Step [250/396], Loss: 24.7656\n",
      "Epoch [10/10], Step [300/396], Loss: 21.6814\n",
      "Epoch [10/10], Step [350/396], Loss: 24.4409\n"
     ]
    }
   ],
   "source": [
    "num_epochs = 10\n",
    "batch_size=20\n",
    "losses = []\n",
    "acc=[]\n",
    "\n",
    "for epoch in range(num_epochs):\n",
    "    for i, (im1, im2, mid) in enumerate(trainloader):\n",
    "        \n",
    "        # we need all our data to be tensor and to be float32 befor giving it to NN to run properly\n",
    "        im1 = torch.from_numpy(np.array(im1, dtype='float32'))\n",
    "        im1 = im1.to(device)\n",
    "       \n",
    "        im2 = torch.from_numpy(np.array(im2, dtype='float32'))\n",
    "        im2 = im2.to(device)\n",
    "        \n",
    "        mid = torch.from_numpy(np.array(mid, dtype='float32'))\n",
    "        mid = mid.to(device)\n",
    "       \n",
    "        # forwad pass\n",
    "        outputs = model(im1, im2)\n",
    "        outputs.to(device)\n",
    "        #outputs = outputs.double()\n",
    "        \n",
    "        # loss: though this is not the actuall loss, it gives a very good insight to our real loss\n",
    "        # clearly, whenever this loss is smaller, real loss is smaller and vice versa. but computing\n",
    "        # real loss function, add huge computation to our network in each iteration. \n",
    "        # I only computed the final accuracy of the model in the next coding parts. \n",
    "        # but could do it here, adding much more computation for each iteration.\n",
    "        loss = criterion(outputs, mid)\n",
    "        losses.append(loss.item())\n",
    "\n",
    "        # backward pass\n",
    "        optimizer.zero_grad()\n",
    "        loss.backward()\n",
    "        \n",
    "        # update parameters\n",
    "        optimizer.step()\n",
    "        \n",
    "        # report\n",
    "        if (i + 1) % 50 == 0:\n",
    "            print('Epoch [%2d/%2d], Step [%3d/%3d], Loss: %.4f'\n",
    "                  % (epoch + 1, num_epochs, i + 1, train_size // batch_size, loss.item()))\n",
    "            \n",
    "    "
   ]
  },
  {
   "cell_type": "code",
   "execution_count": 68,
   "metadata": {
    "colab": {
     "base_uri": "https://localhost:8080/",
     "height": 295
    },
    "id": "-f0gKtg2e-RU",
    "outputId": "e5d5a02f-c696-42ea-b040-7c9dde4d8774"
   },
   "outputs": [
    {
     "data": {
      "image/png": "[encoded data removed]",
      "text/plain": [
       "<Figure size 864x288 with 1 Axes>"
      ]
     },
     "metadata": {
      "needs_background": "light"
     },
     "output_type": "display_data"
    }
   ],
   "source": [
    "import matplotlib.pyplot as plt\n",
    "plt.figure(figsize= (12,4))\n",
    "plt.plot(losses)\n",
    "plt.xlabel('Iteration')\n",
    "plt.ylabel('loss')\n",
    "plt.title('mse loss')\n",
    "plt.show()"
   ]
  },
  {
   "cell_type": "markdown",
   "metadata": {
    "id": "AG2g-U9ZCbMo"
   },
   "source": [
    "Here, I used all set of two images in test set and produced their outputs and stored them all in a list called Z. \n",
    "\n",
    "After that for each middle real value of test set, I compared it to network value and saw where the argmin was.Consider an example: \n",
    "\n",
    "For example, for the 60th row in testing set, I compared the difference of the actual middle matrix with all values in the list Z and saw where this difference was minimum. If it was for example the Z[23], then it showed that network think that the first two column of the test set is responsible for producing the 60th middle matrix of the test_set. So, it would be wrong.\n",
    "\n",
    "So what I did to measure the acuracy of the model is for each row in test set, I compared the output of the network for it and compared it to all real middle matrices and saw which one is closer to it. \n",
    "\n",
    "Thus, overall we give network an input from test set and we know from which rows it comes. Also, network predict a row responsible for it. Then if these two row indices match, the network has done its work correctly.\n",
    "Remark: I could also do the following that for a middle matrix M, for each image X, compare Y that is most likely match for X for producing M and return best (X,Y) for it. But the way I do has exactly the same result as the function here is linear and can be written in different formats like I did. \n",
    "\n",
    "I write an actual prediction function in final part."
   ]
  },
  {
   "cell_type": "code",
   "execution_count": 36,
   "metadata": {
    "id": "o_872hL-xmGK"
   },
   "outputs": [],
   "source": [
    "#no training, so,no grad required\n",
    "Z=[]\n",
    "with torch.no_grad():\n",
    "    for i, (im1, im2, mid) in enumerate(testloader):\n",
    "        #im1= im1/255\n",
    "        im1= torch.from_numpy(np.array(im1, dtype='float32'))\n",
    "        im1= im1.to(device)\n",
    "\n",
    "\n",
    "        #im2= im2/255\n",
    "        im2= torch.from_numpy(np.array(im2, dtype='float32'))\n",
    "        im2= im2.to(device)\n",
    "\n",
    "        #mid= mid/255\n",
    "        mid= torch.from_numpy(np.array(mid, dtype='float32'))\n",
    "        mid= mid.to(device)\n",
    "\n",
    "        # forwad pass\n",
    "        outputs= model(im1, im2)\n",
    "        Z.append(outputs)\n",
    "#producing a list of indices of the best pair (X,Y) that produces each Z[i] \n",
    "indices=[]\n",
    "for j in range(len(test_data)):\n",
    "    differs=[]\n",
    "    for i in range(len(test_data)):\n",
    "        l= torch.linalg.norm(Z[i].cpu()-test_data[j][2])\n",
    "        differs.append(l)\n",
    "    indices.append(np.argmin(differs))\n",
    "    \n"
   ]
  },
  {
   "cell_type": "code",
   "execution_count": null,
   "metadata": {
    "colab": {
     "base_uri": "https://localhost:8080/"
    },
    "id": "_6i6XHsglnXM",
    "outputId": "2a10edf2-6f02-4b65-cba7-ab265f8f5743"
   },
   "outputs": [
    {
     "name": "stdout",
     "output_type": "stream",
     "text": [
      "accuracy of model is: 0.9049440847557386\n",
      "number of correct prediction is: 3075 out of overall: 3398 test data\n"
     ]
    }
   ],
   "source": [
    "#computing acuracy of model by computing number of correct predictions out of all \n",
    "num_correct = 0\n",
    "for i in range(len(test_data)):\n",
    "    if indices[i]==np.arange(len(test_data))[i]:\n",
    "        num_correct += 1\n",
    "acc.append(num_correct / len(test_data))   \n",
    "print('accuracy of model is:', num_correct / len(test_data))\n",
    "print('number of correct prediction is:', num_correct,'out of overall:', len(test_data), 'test data')\n"
   ]
  },
  {
   "cell_type": "markdown",
   "metadata": {
    "id": "nnjcKnp0NM5x"
   },
   "source": [
    "**Naive Prediction limited to only test set**\n",
    "\n",
    "In this part, we have a predicting function that for each input, returns two images that the network think are responsible for producing this input. Of course this is only for test dataset. "
   ]
  },
  {
   "cell_type": "code",
   "execution_count": null,
   "metadata": {
    "id": "LPnDPBxohMTR"
   },
   "outputs": [],
   "source": [
    "def predicting(middle):\n",
    "    differs=[]\n",
    "    for i in range(len(test_data)):\n",
    "        differs.append(torch.linalg.norm(Z[i].cpu()-middle))\n",
    "    index= np.argmin(differs)\n",
    "    print('your middle is:', middle)\n",
    "    return('the first image is:',test_data[index][0], 'the second image is', test_data[index][1])"
   ]
  },
  {
   "cell_type": "code",
   "execution_count": null,
   "metadata": {
    "colab": {
     "base_uri": "https://localhost:8080/"
    },
    "id": "CnD4B0GGdr09",
    "outputId": "5cabe773-10f4-4580-b793-16ff1df8526c"
   },
   "outputs": [
    {
     "name": "stdout",
     "output_type": "stream",
     "text": [
      "your middle is: [175.  173.5 176.5 ... 159.5 151.  140.5]\n"
     ]
    },
    {
     "data": {
      "text/plain": [
       "('the first image is:',\n",
       " array([201, 209, 226, ..., 197, 193, 181], dtype=uint8),\n",
       " 'the second image is',\n",
       " array([149, 138, 127, ..., 122, 109, 100], dtype=uint8))"
      ]
     },
     "execution_count": 57,
     "metadata": {},
     "output_type": "execute_result"
    }
   ],
   "source": [
    "# a test of how function works\n",
    "predicting(test_data[208][2])"
   ]
  },
  {
   "cell_type": "markdown",
   "metadata": {
    "id": "En3UZ5xdw8ZV"
   },
   "source": [
    "**Final part:**\n",
    "\n",
    "**Real Prediction:**\n",
    "\n",
    "In this section, I defined a final function that taking any middle matrix Z as an input, it returns both A and B that it things has created our Z.\n",
    "In this stage, we can use any two pictures of our 1000 samples."
   ]
  },
  {
   "cell_type": "markdown",
   "metadata": {
    "id": "a1QXpkrhym_b"
   },
   "source": [
    "Building up Query input:\n",
    "You can build up an input here to give it to 'real_prediction'. If you want to test it, just give the 'query' function, indices of first and second image of our sample of 1000 samples. then give the result to 'real_prediction' to see the results."
   ]
  },
  {
   "cell_type": "code",
   "execution_count": 57,
   "metadata": {
    "id": "hgiPTesxy4L3"
   },
   "outputs": [],
   "source": [
    "def query(i,j):\n",
    "    a= torch.from_numpy(np.array(AS[i].flatten(), dtype='float32'))\n",
    "    b= torch.from_numpy(np.array(AS[j].flatten(), dtype='float32'))\n",
    "    c= (a+b)/2\n",
    "    c= c.to(device)\n",
    "    return c"
   ]
  },
  {
   "cell_type": "markdown",
   "metadata": {
    "id": "bY-Xfz4TxWye"
   },
   "source": [
    "The way this real_prediction function is work is that for any qurey point (middle matrix Z), for all set of possible images from our 1000 images, it computes all output of the model i.e. all outputs of (X,Y). Then for each of these binary combinations, it compute Norm(model(X,), Z) and find the argmin of this matrix. The indices of this matrix would be our desired outputs i.e. images A and B that are likely to have produced Z."
   ]
  },
  {
   "cell_type": "code",
   "execution_count": 78,
   "metadata": {
    "id": "QWtlAnzNyKh4"
   },
   "outputs": [],
   "source": [
    "def real_prediction(Q):\n",
    "    d= np.full((1000,1000), np.inf)\n",
    "    for i in range(1000):\n",
    "\n",
    "        a= torch.from_numpy(np.array(AS[i].flatten(), dtype='float32'))\n",
    "        a= a.to(device)\n",
    "\n",
    "        for j in np.arange(i, 1000):\n",
    "            b= torch.from_numpy(np.array(AS[j].flatten(), dtype='float32'))\n",
    "            b= b.to(device)\n",
    "\n",
    "            o= model(a,b)\n",
    "      \n",
    "            d[i,j]= torch.linalg.norm(o-Q)\n",
    "            #d.to(device)\n",
    "    minimiser= np.ndarray.argmin(d)\n",
    "    I= minimiser // 1000\n",
    "    J= minimiser % 1000\n",
    "    print('first image is:', I , 'th image of our 1000 sample')\n",
    "    print('second image is:', J , 'th image of our 1000 sample')\n",
    "    print('first image is:', S[I])\n",
    "    print('second image is:', S[J])\n"
   ]
  },
  {
   "cell_type": "code",
   "execution_count": 79,
   "metadata": {
    "colab": {
     "base_uri": "https://localhost:8080/",
     "height": 1000
    },
    "id": "hriq2ttGyKkh",
    "outputId": "22f91b8c-ba91-44d5-af8f-e7055958b401"
   },
   "outputs": [
    {
     "name": "stdout",
     "output_type": "stream",
     "text": [
      "first image is: 14 th image of our 1000 sample\n",
      "second image is: 601 th image of our 1000 sample\n",
      "first image is: [[[133 140 159]\n",
      "  [132 139 158]\n",
      "  [133 140 158]\n",
      "  ...\n",
      "  [134 140 159]\n",
      "  [133 140 158]\n",
      "  [133 140 158]]\n",
      "\n",
      " [[135 142 161]\n",
      "  [134 141 160]\n",
      "  [135 142 160]\n",
      "  ...\n",
      "  [135 142 161]\n",
      "  [135 142 160]\n",
      "  [135 142 160]]\n",
      "\n",
      " [[134 141 160]\n",
      "  [133 140 159]\n",
      "  [134 140 159]\n",
      "  ...\n",
      "  [134 141 159]\n",
      "  [134 140 159]\n",
      "  [134 140 158]]\n",
      "\n",
      " ...\n",
      "\n",
      " [[146 148 154]\n",
      "  [143 145 152]\n",
      "  [142 145 151]\n",
      "  ...\n",
      "  [128 128 134]\n",
      "  [128 129 135]\n",
      "  [113 116 123]]\n",
      "\n",
      " [[162 163 166]\n",
      "  [161 162 165]\n",
      "  [162 163 168]\n",
      "  ...\n",
      "  [111 113 123]\n",
      "  [111 113 123]\n",
      "  [110 113 123]]\n",
      "\n",
      " [[161 162 166]\n",
      "  [160 161 165]\n",
      "  [159 160 164]\n",
      "  ...\n",
      "  [129 132 141]\n",
      "  [128 132 141]\n",
      "  [128 132 141]]]\n"
     ]
    },
    {
     "ename": "KeyError",
     "evalue": "ignored",
     "output_type": "error",
     "traceback": [
      "\u001b[0;31m---------------------------------------------------------------------------\u001b[0m",
      "\u001b[0;31mKeyError\u001b[0m                                  Traceback (most recent call last)",
      "\u001b[0;32m/usr/local/lib/python3.8/dist-packages/pandas/core/indexes/base.py\u001b[0m in \u001b[0;36mget_loc\u001b[0;34m(self, key, method, tolerance)\u001b[0m\n\u001b[1;32m   3360\u001b[0m             \u001b[0;32mtry\u001b[0m\u001b[0;34m:\u001b[0m\u001b[0;34m\u001b[0m\u001b[0;34m\u001b[0m\u001b[0m\n\u001b[0;32m-> 3361\u001b[0;31m                 \u001b[0;32mreturn\u001b[0m \u001b[0mself\u001b[0m\u001b[0;34m.\u001b[0m\u001b[0m_engine\u001b[0m\u001b[0;34m.\u001b[0m\u001b[0mget_loc\u001b[0m\u001b[0;34m(\u001b[0m\u001b[0mcasted_key\u001b[0m\u001b[0;34m)\u001b[0m\u001b[0;34m\u001b[0m\u001b[0;34m\u001b[0m\u001b[0m\n\u001b[0m\u001b[1;32m   3362\u001b[0m             \u001b[0;32mexcept\u001b[0m \u001b[0mKeyError\u001b[0m \u001b[0;32mas\u001b[0m \u001b[0merr\u001b[0m\u001b[0;34m:\u001b[0m\u001b[0;34m\u001b[0m\u001b[0;34m\u001b[0m\u001b[0m\n",
      "\u001b[0;32m/usr/local/lib/python3.8/dist-packages/pandas/_libs/index.pyx\u001b[0m in \u001b[0;36mpandas._libs.index.IndexEngine.get_loc\u001b[0;34m()\u001b[0m\n",
      "\u001b[0;32m/usr/local/lib/python3.8/dist-packages/pandas/_libs/index.pyx\u001b[0m in \u001b[0;36mpandas._libs.index.IndexEngine.get_loc\u001b[0;34m()\u001b[0m\n",
      "\u001b[0;32mpandas/_libs/hashtable_class_helper.pxi\u001b[0m in \u001b[0;36mpandas._libs.hashtable.Int64HashTable.get_item\u001b[0;34m()\u001b[0m\n",
      "\u001b[0;32mpandas/_libs/hashtable_class_helper.pxi\u001b[0m in \u001b[0;36mpandas._libs.hashtable.Int64HashTable.get_item\u001b[0;34m()\u001b[0m\n",
      "\u001b[0;31mKeyError\u001b[0m: 601",
      "\nThe above exception was the direct cause of the following exception:\n",
      "\u001b[0;31mKeyError\u001b[0m                                  Traceback (most recent call last)",
      "\u001b[0;32m<ipython-input-79-f9a2c5783dc1>\u001b[0m in \u001b[0;36m<module>\u001b[0;34m\u001b[0m\n\u001b[1;32m      1\u001b[0m \u001b[0mt\u001b[0m\u001b[0;34m=\u001b[0m \u001b[0mquery\u001b[0m\u001b[0;34m(\u001b[0m\u001b[0;36m14\u001b[0m\u001b[0;34m,\u001b[0m \u001b[0;36m601\u001b[0m\u001b[0;34m)\u001b[0m\u001b[0;34m\u001b[0m\u001b[0;34m\u001b[0m\u001b[0m\n\u001b[0;32m----> 2\u001b[0;31m \u001b[0mreal_prediction\u001b[0m\u001b[0;34m(\u001b[0m\u001b[0mt\u001b[0m\u001b[0;34m)\u001b[0m\u001b[0;34m\u001b[0m\u001b[0;34m\u001b[0m\u001b[0m\n\u001b[0m",
      "\u001b[0;32m<ipython-input-78-3f25aa3c9af4>\u001b[0m in \u001b[0;36mreal_prediction\u001b[0;34m(Q)\u001b[0m\n\u001b[1;32m     20\u001b[0m     \u001b[0mprint\u001b[0m\u001b[0;34m(\u001b[0m\u001b[0;34m'second image is:'\u001b[0m\u001b[0;34m,\u001b[0m \u001b[0mJ\u001b[0m \u001b[0;34m,\u001b[0m \u001b[0;34m'th image of our 1000 sample'\u001b[0m\u001b[0;34m)\u001b[0m\u001b[0;34m\u001b[0m\u001b[0;34m\u001b[0m\u001b[0m\n\u001b[1;32m     21\u001b[0m     \u001b[0mprint\u001b[0m\u001b[0;34m(\u001b[0m\u001b[0;34m'first image is:'\u001b[0m\u001b[0;34m,\u001b[0m \u001b[0mS\u001b[0m\u001b[0;34m[\u001b[0m\u001b[0mI\u001b[0m\u001b[0;34m]\u001b[0m\u001b[0;34m)\u001b[0m\u001b[0;34m\u001b[0m\u001b[0;34m\u001b[0m\u001b[0m\n\u001b[0;32m---> 22\u001b[0;31m     \u001b[0mprint\u001b[0m\u001b[0;34m(\u001b[0m\u001b[0;34m'second image is:'\u001b[0m\u001b[0;34m,\u001b[0m \u001b[0mS\u001b[0m\u001b[0;34m[\u001b[0m\u001b[0mJ\u001b[0m\u001b[0;34m]\u001b[0m\u001b[0;34m)\u001b[0m\u001b[0;34m\u001b[0m\u001b[0;34m\u001b[0m\u001b[0m\n\u001b[0m",
      "\u001b[0;32m/usr/local/lib/python3.8/dist-packages/pandas/core/series.py\u001b[0m in \u001b[0;36m__getitem__\u001b[0;34m(self, key)\u001b[0m\n\u001b[1;32m    940\u001b[0m \u001b[0;34m\u001b[0m\u001b[0m\n\u001b[1;32m    941\u001b[0m         \u001b[0;32melif\u001b[0m \u001b[0mkey_is_scalar\u001b[0m\u001b[0;34m:\u001b[0m\u001b[0;34m\u001b[0m\u001b[0;34m\u001b[0m\u001b[0m\n\u001b[0;32m--> 942\u001b[0;31m             \u001b[0;32mreturn\u001b[0m \u001b[0mself\u001b[0m\u001b[0;34m.\u001b[0m\u001b[0m_get_value\u001b[0m\u001b[0;34m(\u001b[0m\u001b[0mkey\u001b[0m\u001b[0;34m)\u001b[0m\u001b[0;34m\u001b[0m\u001b[0;34m\u001b[0m\u001b[0m\n\u001b[0m\u001b[1;32m    943\u001b[0m \u001b[0;34m\u001b[0m\u001b[0m\n\u001b[1;32m    944\u001b[0m         \u001b[0;32mif\u001b[0m \u001b[0mis_hashable\u001b[0m\u001b[0;34m(\u001b[0m\u001b[0mkey\u001b[0m\u001b[0;34m)\u001b[0m\u001b[0;34m:\u001b[0m\u001b[0;34m\u001b[0m\u001b[0;34m\u001b[0m\u001b[0m\n",
      "\u001b[0;32m/usr/local/lib/python3.8/dist-packages/pandas/core/series.py\u001b[0m in \u001b[0;36m_get_value\u001b[0;34m(self, label, takeable)\u001b[0m\n\u001b[1;32m   1049\u001b[0m \u001b[0;34m\u001b[0m\u001b[0m\n\u001b[1;32m   1050\u001b[0m         \u001b[0;31m# Similar to Index.get_value, but we do not fall back to positional\u001b[0m\u001b[0;34m\u001b[0m\u001b[0;34m\u001b[0m\u001b[0;34m\u001b[0m\u001b[0m\n\u001b[0;32m-> 1051\u001b[0;31m         \u001b[0mloc\u001b[0m \u001b[0;34m=\u001b[0m \u001b[0mself\u001b[0m\u001b[0;34m.\u001b[0m\u001b[0mindex\u001b[0m\u001b[0;34m.\u001b[0m\u001b[0mget_loc\u001b[0m\u001b[0;34m(\u001b[0m\u001b[0mlabel\u001b[0m\u001b[0;34m)\u001b[0m\u001b[0;34m\u001b[0m\u001b[0;34m\u001b[0m\u001b[0m\n\u001b[0m\u001b[1;32m   1052\u001b[0m         \u001b[0;32mreturn\u001b[0m \u001b[0mself\u001b[0m\u001b[0;34m.\u001b[0m\u001b[0mindex\u001b[0m\u001b[0;34m.\u001b[0m\u001b[0m_get_values_for_loc\u001b[0m\u001b[0;34m(\u001b[0m\u001b[0mself\u001b[0m\u001b[0;34m,\u001b[0m \u001b[0mloc\u001b[0m\u001b[0;34m,\u001b[0m \u001b[0mlabel\u001b[0m\u001b[0;34m)\u001b[0m\u001b[0;34m\u001b[0m\u001b[0;34m\u001b[0m\u001b[0m\n\u001b[1;32m   1053\u001b[0m \u001b[0;34m\u001b[0m\u001b[0m\n",
      "\u001b[0;32m/usr/local/lib/python3.8/dist-packages/pandas/core/indexes/base.py\u001b[0m in \u001b[0;36mget_loc\u001b[0;34m(self, key, method, tolerance)\u001b[0m\n\u001b[1;32m   3361\u001b[0m                 \u001b[0;32mreturn\u001b[0m \u001b[0mself\u001b[0m\u001b[0;34m.\u001b[0m\u001b[0m_engine\u001b[0m\u001b[0;34m.\u001b[0m\u001b[0mget_loc\u001b[0m\u001b[0;34m(\u001b[0m\u001b[0mcasted_key\u001b[0m\u001b[0;34m)\u001b[0m\u001b[0;34m\u001b[0m\u001b[0;34m\u001b[0m\u001b[0m\n\u001b[1;32m   3362\u001b[0m             \u001b[0;32mexcept\u001b[0m \u001b[0mKeyError\u001b[0m \u001b[0;32mas\u001b[0m \u001b[0merr\u001b[0m\u001b[0;34m:\u001b[0m\u001b[0;34m\u001b[0m\u001b[0;34m\u001b[0m\u001b[0m\n\u001b[0;32m-> 3363\u001b[0;31m                 \u001b[0;32mraise\u001b[0m \u001b[0mKeyError\u001b[0m\u001b[0;34m(\u001b[0m\u001b[0mkey\u001b[0m\u001b[0;34m)\u001b[0m \u001b[0;32mfrom\u001b[0m \u001b[0merr\u001b[0m\u001b[0;34m\u001b[0m\u001b[0;34m\u001b[0m\u001b[0m\n\u001b[0m\u001b[1;32m   3364\u001b[0m \u001b[0;34m\u001b[0m\u001b[0m\n\u001b[1;32m   3365\u001b[0m         \u001b[0;32mif\u001b[0m \u001b[0mis_scalar\u001b[0m\u001b[0;34m(\u001b[0m\u001b[0mkey\u001b[0m\u001b[0;34m)\u001b[0m \u001b[0;32mand\u001b[0m \u001b[0misna\u001b[0m\u001b[0;34m(\u001b[0m\u001b[0mkey\u001b[0m\u001b[0;34m)\u001b[0m \u001b[0;32mand\u001b[0m \u001b[0;32mnot\u001b[0m \u001b[0mself\u001b[0m\u001b[0;34m.\u001b[0m\u001b[0mhasnans\u001b[0m\u001b[0;34m:\u001b[0m\u001b[0;34m\u001b[0m\u001b[0;34m\u001b[0m\u001b[0m\n",
      "\u001b[0;31mKeyError\u001b[0m: 601"
     ]
    }
   ],
   "source": [
    "#example\n",
    "t= query(14, 601)\n",
    "real_prediction(t)"
   ]
  },
  {
   "cell_type": "code",
   "execution_count": 80,
   "metadata": {
    "colab": {
     "base_uri": "https://localhost:8080/",
     "height": 1000
    },
    "id": "FslD32rX0jvm",
    "outputId": "24b8779a-e4a0-48f1-c760-29ffea8362e2"
   },
   "outputs": [
    {
     "name": "stdout",
     "output_type": "stream",
     "text": [
      "first image is: 56 th image of our 1000 sample\n",
      "second image is: 888 th image of our 1000 sample\n",
      "first image is: [[[0 0 2]\n",
      "  [0 0 2]\n",
      "  [0 0 2]\n",
      "  ...\n",
      "  [0 0 2]\n",
      "  [0 0 2]\n",
      "  [0 0 2]]\n",
      "\n",
      " [[0 0 2]\n",
      "  [0 0 2]\n",
      "  [0 0 2]\n",
      "  ...\n",
      "  [0 0 2]\n",
      "  [0 0 2]\n",
      "  [0 0 2]]\n",
      "\n",
      " [[0 0 2]\n",
      "  [0 0 2]\n",
      "  [0 0 2]\n",
      "  ...\n",
      "  [0 0 2]\n",
      "  [0 0 2]\n",
      "  [0 0 2]]\n",
      "\n",
      " ...\n",
      "\n",
      " [[0 0 2]\n",
      "  [0 0 2]\n",
      "  [0 0 2]\n",
      "  ...\n",
      "  [0 0 0]\n",
      "  [0 0 0]\n",
      "  [0 0 0]]\n",
      "\n",
      " [[0 0 2]\n",
      "  [0 0 2]\n",
      "  [0 0 2]\n",
      "  ...\n",
      "  [0 0 0]\n",
      "  [0 0 0]\n",
      "  [0 0 0]]\n",
      "\n",
      " [[0 0 2]\n",
      "  [0 0 2]\n",
      "  [0 0 2]\n",
      "  ...\n",
      "  [0 0 2]\n",
      "  [0 0 2]\n",
      "  [0 0 2]]]\n"
     ]
    },
    {
     "ename": "KeyError",
     "evalue": "ignored",
     "output_type": "error",
     "traceback": [
      "\u001b[0;31m---------------------------------------------------------------------------\u001b[0m",
      "\u001b[0;31mKeyError\u001b[0m                                  Traceback (most recent call last)",
      "\u001b[0;32m/usr/local/lib/python3.8/dist-packages/pandas/core/indexes/base.py\u001b[0m in \u001b[0;36mget_loc\u001b[0;34m(self, key, method, tolerance)\u001b[0m\n\u001b[1;32m   3360\u001b[0m             \u001b[0;32mtry\u001b[0m\u001b[0;34m:\u001b[0m\u001b[0;34m\u001b[0m\u001b[0;34m\u001b[0m\u001b[0m\n\u001b[0;32m-> 3361\u001b[0;31m                 \u001b[0;32mreturn\u001b[0m \u001b[0mself\u001b[0m\u001b[0;34m.\u001b[0m\u001b[0m_engine\u001b[0m\u001b[0;34m.\u001b[0m\u001b[0mget_loc\u001b[0m\u001b[0;34m(\u001b[0m\u001b[0mcasted_key\u001b[0m\u001b[0;34m)\u001b[0m\u001b[0;34m\u001b[0m\u001b[0;34m\u001b[0m\u001b[0m\n\u001b[0m\u001b[1;32m   3362\u001b[0m             \u001b[0;32mexcept\u001b[0m \u001b[0mKeyError\u001b[0m \u001b[0;32mas\u001b[0m \u001b[0merr\u001b[0m\u001b[0;34m:\u001b[0m\u001b[0;34m\u001b[0m\u001b[0;34m\u001b[0m\u001b[0m\n",
      "\u001b[0;32m/usr/local/lib/python3.8/dist-packages/pandas/_libs/index.pyx\u001b[0m in \u001b[0;36mpandas._libs.index.IndexEngine.get_loc\u001b[0;34m()\u001b[0m\n",
      "\u001b[0;32m/usr/local/lib/python3.8/dist-packages/pandas/_libs/index.pyx\u001b[0m in \u001b[0;36mpandas._libs.index.IndexEngine.get_loc\u001b[0;34m()\u001b[0m\n",
      "\u001b[0;32mpandas/_libs/hashtable_class_helper.pxi\u001b[0m in \u001b[0;36mpandas._libs.hashtable.Int64HashTable.get_item\u001b[0;34m()\u001b[0m\n",
      "\u001b[0;32mpandas/_libs/hashtable_class_helper.pxi\u001b[0m in \u001b[0;36mpandas._libs.hashtable.Int64HashTable.get_item\u001b[0;34m()\u001b[0m\n",
      "\u001b[0;31mKeyError\u001b[0m: 888",
      "\nThe above exception was the direct cause of the following exception:\n",
      "\u001b[0;31mKeyError\u001b[0m                                  Traceback (most recent call last)",
      "\u001b[0;32m<ipython-input-80-7126114b08cd>\u001b[0m in \u001b[0;36m<module>\u001b[0;34m\u001b[0m\n\u001b[1;32m      1\u001b[0m \u001b[0;31m#another example\u001b[0m\u001b[0;34m\u001b[0m\u001b[0;34m\u001b[0m\u001b[0;34m\u001b[0m\u001b[0m\n\u001b[1;32m      2\u001b[0m \u001b[0mr1\u001b[0m\u001b[0;34m=\u001b[0m \u001b[0mquery\u001b[0m\u001b[0;34m(\u001b[0m\u001b[0;36m56\u001b[0m\u001b[0;34m,\u001b[0m \u001b[0;36m888\u001b[0m\u001b[0;34m)\u001b[0m\u001b[0;34m\u001b[0m\u001b[0;34m\u001b[0m\u001b[0m\n\u001b[0;32m----> 3\u001b[0;31m \u001b[0mreal_prediction\u001b[0m\u001b[0;34m(\u001b[0m\u001b[0mr1\u001b[0m\u001b[0;34m)\u001b[0m\u001b[0;34m\u001b[0m\u001b[0;34m\u001b[0m\u001b[0m\n\u001b[0m",
      "\u001b[0;32m<ipython-input-78-3f25aa3c9af4>\u001b[0m in \u001b[0;36mreal_prediction\u001b[0;34m(Q)\u001b[0m\n\u001b[1;32m     20\u001b[0m     \u001b[0mprint\u001b[0m\u001b[0;34m(\u001b[0m\u001b[0;34m'second image is:'\u001b[0m\u001b[0;34m,\u001b[0m \u001b[0mJ\u001b[0m \u001b[0;34m,\u001b[0m \u001b[0;34m'th image of our 1000 sample'\u001b[0m\u001b[0;34m)\u001b[0m\u001b[0;34m\u001b[0m\u001b[0;34m\u001b[0m\u001b[0m\n\u001b[1;32m     21\u001b[0m     \u001b[0mprint\u001b[0m\u001b[0;34m(\u001b[0m\u001b[0;34m'first image is:'\u001b[0m\u001b[0;34m,\u001b[0m \u001b[0mS\u001b[0m\u001b[0;34m[\u001b[0m\u001b[0mI\u001b[0m\u001b[0;34m]\u001b[0m\u001b[0;34m)\u001b[0m\u001b[0;34m\u001b[0m\u001b[0;34m\u001b[0m\u001b[0m\n\u001b[0;32m---> 22\u001b[0;31m     \u001b[0mprint\u001b[0m\u001b[0;34m(\u001b[0m\u001b[0;34m'second image is:'\u001b[0m\u001b[0;34m,\u001b[0m \u001b[0mS\u001b[0m\u001b[0;34m[\u001b[0m\u001b[0mJ\u001b[0m\u001b[0;34m]\u001b[0m\u001b[0;34m)\u001b[0m\u001b[0;34m\u001b[0m\u001b[0;34m\u001b[0m\u001b[0m\n\u001b[0m",
      "\u001b[0;32m/usr/local/lib/python3.8/dist-packages/pandas/core/series.py\u001b[0m in \u001b[0;36m__getitem__\u001b[0;34m(self, key)\u001b[0m\n\u001b[1;32m    940\u001b[0m \u001b[0;34m\u001b[0m\u001b[0m\n\u001b[1;32m    941\u001b[0m         \u001b[0;32melif\u001b[0m \u001b[0mkey_is_scalar\u001b[0m\u001b[0;34m:\u001b[0m\u001b[0;34m\u001b[0m\u001b[0;34m\u001b[0m\u001b[0m\n\u001b[0;32m--> 942\u001b[0;31m             \u001b[0;32mreturn\u001b[0m \u001b[0mself\u001b[0m\u001b[0;34m.\u001b[0m\u001b[0m_get_value\u001b[0m\u001b[0;34m(\u001b[0m\u001b[0mkey\u001b[0m\u001b[0;34m)\u001b[0m\u001b[0;34m\u001b[0m\u001b[0;34m\u001b[0m\u001b[0m\n\u001b[0m\u001b[1;32m    943\u001b[0m \u001b[0;34m\u001b[0m\u001b[0m\n\u001b[1;32m    944\u001b[0m         \u001b[0;32mif\u001b[0m \u001b[0mis_hashable\u001b[0m\u001b[0;34m(\u001b[0m\u001b[0mkey\u001b[0m\u001b[0;34m)\u001b[0m\u001b[0;34m:\u001b[0m\u001b[0;34m\u001b[0m\u001b[0;34m\u001b[0m\u001b[0m\n",
      "\u001b[0;32m/usr/local/lib/python3.8/dist-packages/pandas/core/series.py\u001b[0m in \u001b[0;36m_get_value\u001b[0;34m(self, label, takeable)\u001b[0m\n\u001b[1;32m   1049\u001b[0m \u001b[0;34m\u001b[0m\u001b[0m\n\u001b[1;32m   1050\u001b[0m         \u001b[0;31m# Similar to Index.get_value, but we do not fall back to positional\u001b[0m\u001b[0;34m\u001b[0m\u001b[0;34m\u001b[0m\u001b[0;34m\u001b[0m\u001b[0m\n\u001b[0;32m-> 1051\u001b[0;31m         \u001b[0mloc\u001b[0m \u001b[0;34m=\u001b[0m \u001b[0mself\u001b[0m\u001b[0;34m.\u001b[0m\u001b[0mindex\u001b[0m\u001b[0;34m.\u001b[0m\u001b[0mget_loc\u001b[0m\u001b[0;34m(\u001b[0m\u001b[0mlabel\u001b[0m\u001b[0;34m)\u001b[0m\u001b[0;34m\u001b[0m\u001b[0;34m\u001b[0m\u001b[0m\n\u001b[0m\u001b[1;32m   1052\u001b[0m         \u001b[0;32mreturn\u001b[0m \u001b[0mself\u001b[0m\u001b[0;34m.\u001b[0m\u001b[0mindex\u001b[0m\u001b[0;34m.\u001b[0m\u001b[0m_get_values_for_loc\u001b[0m\u001b[0;34m(\u001b[0m\u001b[0mself\u001b[0m\u001b[0;34m,\u001b[0m \u001b[0mloc\u001b[0m\u001b[0;34m,\u001b[0m \u001b[0mlabel\u001b[0m\u001b[0;34m)\u001b[0m\u001b[0;34m\u001b[0m\u001b[0;34m\u001b[0m\u001b[0m\n\u001b[1;32m   1053\u001b[0m \u001b[0;34m\u001b[0m\u001b[0m\n",
      "\u001b[0;32m/usr/local/lib/python3.8/dist-packages/pandas/core/indexes/base.py\u001b[0m in \u001b[0;36mget_loc\u001b[0;34m(self, key, method, tolerance)\u001b[0m\n\u001b[1;32m   3361\u001b[0m                 \u001b[0;32mreturn\u001b[0m \u001b[0mself\u001b[0m\u001b[0;34m.\u001b[0m\u001b[0m_engine\u001b[0m\u001b[0;34m.\u001b[0m\u001b[0mget_loc\u001b[0m\u001b[0;34m(\u001b[0m\u001b[0mcasted_key\u001b[0m\u001b[0;34m)\u001b[0m\u001b[0;34m\u001b[0m\u001b[0;34m\u001b[0m\u001b[0m\n\u001b[1;32m   3362\u001b[0m             \u001b[0;32mexcept\u001b[0m \u001b[0mKeyError\u001b[0m \u001b[0;32mas\u001b[0m \u001b[0merr\u001b[0m\u001b[0;34m:\u001b[0m\u001b[0;34m\u001b[0m\u001b[0;34m\u001b[0m\u001b[0m\n\u001b[0;32m-> 3363\u001b[0;31m                 \u001b[0;32mraise\u001b[0m \u001b[0mKeyError\u001b[0m\u001b[0;34m(\u001b[0m\u001b[0mkey\u001b[0m\u001b[0;34m)\u001b[0m \u001b[0;32mfrom\u001b[0m \u001b[0merr\u001b[0m\u001b[0;34m\u001b[0m\u001b[0;34m\u001b[0m\u001b[0m\n\u001b[0m\u001b[1;32m   3364\u001b[0m \u001b[0;34m\u001b[0m\u001b[0m\n\u001b[1;32m   3365\u001b[0m         \u001b[0;32mif\u001b[0m \u001b[0mis_scalar\u001b[0m\u001b[0;34m(\u001b[0m\u001b[0mkey\u001b[0m\u001b[0;34m)\u001b[0m \u001b[0;32mand\u001b[0m \u001b[0misna\u001b[0m\u001b[0;34m(\u001b[0m\u001b[0mkey\u001b[0m\u001b[0;34m)\u001b[0m \u001b[0;32mand\u001b[0m \u001b[0;32mnot\u001b[0m \u001b[0mself\u001b[0m\u001b[0;34m.\u001b[0m\u001b[0mhasnans\u001b[0m\u001b[0;34m:\u001b[0m\u001b[0;34m\u001b[0m\u001b[0;34m\u001b[0m\u001b[0m\n",
      "\u001b[0;31mKeyError\u001b[0m: 888"
     ]
    }
   ],
   "source": [
    "#another example\n",
    "r1= query(56, 888)\n",
    "real_prediction(r1)"
   ]
  }
 ],
 "metadata": {
  "accelerator": "GPU",
  "colab": {
   "provenance": []
  },
  "gpuClass": "standard",
  "kernelspec": {
   "display_name": "Python 3",
   "language": "python",
   "name": "python3"
  },
  "language_info": {
   "codemirror_mode": {
    "name": "ipython",
    "version": 3
   },
   "file_extension": ".py",
   "mimetype": "text/x-python",
   "name": "python",
   "nbconvert_exporter": "python",
   "pygments_lexer": "ipython3",
   "version": "3.7.4"
  }
 },
 "nbformat": 4,
 "nbformat_minor": 1
}
